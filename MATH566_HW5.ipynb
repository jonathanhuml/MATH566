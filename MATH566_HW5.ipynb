{
 "cells": [
  {
   "cell_type": "markdown",
   "metadata": {},
   "source": [
    "### Question 1"
   ]
  },
  {
   "cell_type": "code",
   "execution_count": 10,
   "metadata": {},
   "outputs": [],
   "source": [
    "import numpy as np\n",
    "from scipy import misc\n",
    "from scipy import signal\n",
    "import math\n",
    "\n",
    "#Create a \"polynomial vector\" where each A[x]=i is the coefficient \n",
    "#in front of the X^i term (so all nonzero terms are of the form i*X^i). \n",
    "#Multiply by 10 since problem specifies each A[x] < 10*n\n",
    "def vectorize(A):\n",
    "    z = np.zeros(len(A)*10)\n",
    "    for i in A:\n",
    "        z[i] = i \n",
    "    return z\n",
    "\n",
    "#The convolution multiplies vectors in the Fourier domain.\n",
    "#This function uses the FFT transform. \n",
    "#We do not want the coefficients we want the DEGREE where the coefficients \n",
    "#exist, so get the indices of where there are nonzero X^i\n",
    "def cartesian_sum(A,B):\n",
    "    q = vectorize(A)\n",
    "    w = vectorize(B)\n",
    "    return np.nonzero(np.convolve(q,w))"
   ]
  },
  {
   "cell_type": "markdown",
   "metadata": {},
   "source": [
    "#### Below we demonstrate the code in an example"
   ]
  },
  {
   "cell_type": "code",
   "execution_count": 11,
   "metadata": {},
   "outputs": [
    {
     "data": {
      "text/plain": [
       "(array([5, 6, 7, 8, 9]),)"
      ]
     },
     "execution_count": 11,
     "metadata": {},
     "output_type": "execute_result"
    }
   ],
   "source": [
    "A = [1, 2, 3]\n",
    "B = [4, 5, 6]\n",
    "\n",
    "#signal.fftconvolve(vectorize(A),vectorize(B))\n",
    "cartesian_sum(A,B)\n",
    "\n",
    "#1 + 4 = 5\n",
    "#1 + 5 = 6\n",
    "#1 + 6 = 7 ...\n",
    "\n",
    "#3 + 6 = 9"
   ]
  },
  {
   "cell_type": "markdown",
   "metadata": {},
   "source": [
    "### Question 2"
   ]
  },
  {
   "cell_type": "code",
   "execution_count": 12,
   "metadata": {},
   "outputs": [],
   "source": [
    "X = np.array([[math.cos(math.cos(-1))], [0], [1], [0], [-1]])\n",
    "\n",
    "Y = np.array([[-1],[0],[1],[2],[1]])\n",
    "\n",
    "beta_hat = np.linalg.inv(X.T.dot(X)).dot(X.T).dot(Y)"
   ]
  }
 ],
 "metadata": {
  "kernelspec": {
   "display_name": "Python 3",
   "language": "python",
   "name": "python3"
  },
  "language_info": {
   "codemirror_mode": {
    "name": "ipython",
    "version": 3
   },
   "file_extension": ".py",
   "mimetype": "text/x-python",
   "name": "python",
   "nbconvert_exporter": "python",
   "pygments_lexer": "ipython3",
   "version": "3.7.3"
  }
 },
 "nbformat": 4,
 "nbformat_minor": 2
}
